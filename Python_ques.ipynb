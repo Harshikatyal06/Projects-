{
  "nbformat": 4,
  "nbformat_minor": 0,
  "metadata": {
    "colab": {
      "provenance": []
    },
    "kernelspec": {
      "name": "python3",
      "display_name": "Python 3"
    },
    "language_info": {
      "name": "python"
    }
  },
  "cells": [
    {
      "cell_type": "code",
      "execution_count": 1,
      "metadata": {
        "colab": {
          "base_uri": "https://localhost:8080/"
        },
        "id": "iNMUXs7k9DHC",
        "outputId": "9fcb182e-b5a4-4857-ead0-a5d129d98008"
      },
      "outputs": [
        {
          "output_type": "stream",
          "name": "stdout",
          "text": [
            "Enter the first number: 489\n",
            "Enter the second number: 678\n",
            "Enter the third number: 564\n",
            "The largest number is: 678.0\n"
          ]
        }
      ],
      "source": [
        "#Write a Python program to find the largest of three numbers.\n",
        "num1 = float(input(\"Enter the first number: \"))\n",
        "num2 = float(input(\"Enter the second number: \"))\n",
        "num3 = float(input(\"Enter the third number: \"))\n",
        "if (num1 >= num2) and (num1 >= num3):\n",
        "    largest = num1\n",
        "elif (num2 >= num1) and (num2 >= num3):\n",
        "    largest = num2\n",
        "else:\n",
        "    largest = num3\n",
        "print(\"The largest number is:\", largest)\n"
      ]
    },
    {
      "cell_type": "code",
      "source": [
        "#Create a program that checks whether a number is even or odd.\n",
        "num = int(input(\"Enter a number: \"))\n",
        "if num % 2 == 0:\n",
        "    print(num, \"is Even\")\n",
        "else:\n",
        "    print(num, \"is Odd\")\n"
      ],
      "metadata": {
        "colab": {
          "base_uri": "https://localhost:8080/"
        },
        "id": "EBM85NCSAM-A",
        "outputId": "0db23632-9b7d-408a-d93c-430bbd6430ef"
      },
      "execution_count": 2,
      "outputs": [
        {
          "output_type": "stream",
          "name": "stdout",
          "text": [
            "Enter a number: 689\n",
            "689 is Odd\n"
          ]
        }
      ]
    },
    {
      "cell_type": "code",
      "source": [
        "# Program to reverse a string\n",
        "user_string = input(\"Enter a string: \")\n",
        "reversed_string = user_string[::-1]\n",
        "print(\"Reversed string:\", reversed_string)\n"
      ],
      "metadata": {
        "colab": {
          "base_uri": "https://localhost:8080/"
        },
        "id": "4Nf5-QfpAm1C",
        "outputId": "c61ee5d4-6aba-48b9-a8b5-bd980e410d89"
      },
      "execution_count": 3,
      "outputs": [
        {
          "output_type": "stream",
          "name": "stdout",
          "text": [
            "Enter a string: harshita\n",
            "Reversed string: atihsrah\n"
          ]
        }
      ]
    },
    {
      "cell_type": "code",
      "source": [
        "# Program to count the number of vowels in a string\n",
        "user_string = input(\"Enter a string: \")\n",
        "vowels = \"aeiouAEIOU\"\n",
        "count = 0\n",
        "for char in user_string:\n",
        "    if char in vowels:\n",
        "        count += 1\n",
        "print(\"Number of vowels:\", count)\n"
      ],
      "metadata": {
        "colab": {
          "base_uri": "https://localhost:8080/"
        },
        "id": "ZSjJW0UbA2YJ",
        "outputId": "1dff3eb6-67a4-437e-da58-8a1c84bb2358"
      },
      "execution_count": 8,
      "outputs": [
        {
          "output_type": "stream",
          "name": "stdout",
          "text": [
            "Enter a string: Education\n",
            "Number of vowels: 5\n"
          ]
        }
      ]
    },
    {
      "cell_type": "code",
      "source": [
        "def calculator(a, b, op):\n",
        "    if op == '+':\n",
        "        return a + b\n",
        "    elif op == '-':\n",
        "        return a - b\n",
        "    elif op == '*':\n",
        "        return a * b\n",
        "    elif op == '/':\n",
        "        if b != 0:\n",
        "            return a / b\n",
        "        else:\n",
        "            return \"Cannot divide by zero\"\n",
        "    else:\n",
        "        return \"Invalid operation\"\n",
        "print(calculator(10, 5, '+'))\n"
      ],
      "metadata": {
        "colab": {
          "base_uri": "https://localhost:8080/"
        },
        "id": "xQ3YCHwRBrob",
        "outputId": "97bc6db3-9570-4476-fdaf-51c7139705b9"
      },
      "execution_count": 9,
      "outputs": [
        {
          "output_type": "stream",
          "name": "stdout",
          "text": [
            "15\n"
          ]
        }
      ]
    },
    {
      "cell_type": "code",
      "source": [
        "def is_prime(n):\n",
        "    if n <= 1:\n",
        "        return False\n",
        "    for i in range(2, int(n**0.5)+1):\n",
        "        if n % i == 0:\n",
        "            return False\n",
        "    return True\n",
        "\n",
        "print(is_prime(17))\n"
      ],
      "metadata": {
        "colab": {
          "base_uri": "https://localhost:8080/"
        },
        "id": "RfkM07lVC2xK",
        "outputId": "79c2ad1b-e97e-4e67-87ca-9e3b78a1052b"
      },
      "execution_count": 10,
      "outputs": [
        {
          "output_type": "stream",
          "name": "stdout",
          "text": [
            "True\n"
          ]
        }
      ]
    },
    {
      "cell_type": "code",
      "source": [
        "def multiplication_table(n):\n",
        "    for i in range(1, 11):\n",
        "        print(f\"{n} x {i} = {n*i}\")\n",
        "\n",
        "multiplication_table(5)\n"
      ],
      "metadata": {
        "colab": {
          "base_uri": "https://localhost:8080/"
        },
        "id": "Sjk8hNPRC78q",
        "outputId": "b02bb442-9b1e-4e5a-b080-1059bf6e0f9f"
      },
      "execution_count": 11,
      "outputs": [
        {
          "output_type": "stream",
          "name": "stdout",
          "text": [
            "5 x 1 = 5\n",
            "5 x 2 = 10\n",
            "5 x 3 = 15\n",
            "5 x 4 = 20\n",
            "5 x 5 = 25\n",
            "5 x 6 = 30\n",
            "5 x 7 = 35\n",
            "5 x 8 = 40\n",
            "5 x 9 = 45\n",
            "5 x 10 = 50\n"
          ]
        }
      ]
    },
    {
      "cell_type": "code",
      "source": [
        "def fibonacci_series(n):\n",
        "    a, b = 0, 1\n",
        "    for _ in range(n):\n",
        "        print(a, end=' ')\n",
        "        a, b = b, a + b\n",
        "\n",
        "\n",
        "fibonacci_series(12)\n"
      ],
      "metadata": {
        "colab": {
          "base_uri": "https://localhost:8080/"
        },
        "id": "9zy5LkwMDCVK",
        "outputId": "173d053b-77fb-482e-9af7-a3f0cf2c1fa2"
      },
      "execution_count": 12,
      "outputs": [
        {
          "output_type": "stream",
          "name": "stdout",
          "text": [
            "0 1 1 2 3 5 8 13 21 34 55 89 "
          ]
        }
      ]
    },
    {
      "cell_type": "code",
      "source": [
        "def factorial(n):\n",
        "    result = 1\n",
        "    for i in range(2, n+1):\n",
        "        result *= i\n",
        "    return result\n",
        "print(factorial(12))\n"
      ],
      "metadata": {
        "colab": {
          "base_uri": "https://localhost:8080/"
        },
        "id": "vAHhEtvJDKNl",
        "outputId": "b8fffc9f-c095-4816-898b-256ac220bdbd"
      },
      "execution_count": 13,
      "outputs": [
        {
          "output_type": "stream",
          "name": "stdout",
          "text": [
            "479001600\n"
          ]
        }
      ]
    },
    {
      "cell_type": "code",
      "source": [
        "# check whether a number is palindrome or not\n",
        "def is_palindrome(number):\n",
        "  return str(number) == str(number)[::-1]\n",
        "num_to_check = 121\n",
        "if is_palindrome(num_to_check):\n",
        "  print(f\"{num_to_check} is a palindrome.\")\n",
        "else:\n",
        "  print(f\"{num_to_check} is not a palindrome.\")\n",
        "\n",
        "num_to_check = 12345\n",
        "if is_palindrome(num_to_check):\n",
        "  print(f\"{num_to_check} is a palindrome.\")\n",
        "else:\n",
        "  print(f\"{num_to_check} is not a palindrome.\")"
      ],
      "metadata": {
        "colab": {
          "base_uri": "https://localhost:8080/"
        },
        "id": "seQj-ljFEqx5",
        "outputId": "18a87536-ac2d-4f83-b681-f9fd1bded37a"
      },
      "execution_count": 14,
      "outputs": [
        {
          "output_type": "stream",
          "name": "stdout",
          "text": [
            "121 is a palindrome.\n",
            "12345 is not a palindrome.\n"
          ]
        }
      ]
    },
    {
      "cell_type": "code",
      "source": [
        "#Find the sum of digits of a number using a while loop\n",
        "def sum_of_digits(number):\n",
        "  total_sum = 0\n",
        "  while number > 0:\n",
        "    digit = number % 10\n",
        "    total_sum += digit\n",
        "    number //= 10\n",
        "  return total_sum\n",
        "number = 12345\n",
        "print(f\"The sum of digits of {number} is: {sum_of_digits(number)}\")"
      ],
      "metadata": {
        "colab": {
          "base_uri": "https://localhost:8080/"
        },
        "id": "VgaQtNNqFc4H",
        "outputId": "04c672da-ca9f-42cb-a6de-10ef8206f697"
      },
      "execution_count": 15,
      "outputs": [
        {
          "output_type": "stream",
          "name": "stdout",
          "text": [
            "The sum of digits of 12345 is: 15\n"
          ]
        }
      ]
    },
    {
      "cell_type": "code",
      "source": [
        "\n",
        "def celsius_to_fahrenheit(c):\n",
        "    return (c * 9/5) + 32\n",
        "print(celsius_to_fahrenheit(37))\n"
      ],
      "metadata": {
        "colab": {
          "base_uri": "https://localhost:8080/"
        },
        "id": "kYO2bG0aJuN8",
        "outputId": "c4e21f6b-6c1f-45b0-bc8c-6fe8d00414ab"
      },
      "execution_count": 16,
      "outputs": [
        {
          "output_type": "stream",
          "name": "stdout",
          "text": [
            "98.6\n"
          ]
        }
      ]
    },
    {
      "cell_type": "code",
      "source": [
        "def find_max(a, b):\n",
        "    if a > b:\n",
        "        return a\n",
        "    else:\n",
        "        return b\n",
        "\n",
        "print(find_max(9, 15))\n"
      ],
      "metadata": {
        "colab": {
          "base_uri": "https://localhost:8080/"
        },
        "id": "m6r3vXLVJ5Ua",
        "outputId": "cd82d64d-1b3d-46f2-9a82-cda2382b2254"
      },
      "execution_count": 17,
      "outputs": [
        {
          "output_type": "stream",
          "name": "stdout",
          "text": [
            "15\n"
          ]
        }
      ]
    },
    {
      "cell_type": "code",
      "source": [
        "def average_of_list(num_list):\n",
        "    total = 0\n",
        "    for num in num_list:\n",
        "        total += num\n",
        "    return total / len(num_list) if num_list else 0\n",
        "\n",
        "print(average_of_list([10, 20, 30]))\n"
      ],
      "metadata": {
        "colab": {
          "base_uri": "https://localhost:8080/"
        },
        "id": "eiPrQ5kPJ_iN",
        "outputId": "737eb942-30a6-4b81-db3f-e3a07000c97d"
      },
      "execution_count": 18,
      "outputs": [
        {
          "output_type": "stream",
          "name": "stdout",
          "text": [
            "20.0\n"
          ]
        }
      ]
    },
    {
      "cell_type": "code",
      "source": [
        "def second_largest(num_list):\n",
        "    largest = second = float('-inf')\n",
        "    for num in num_list:\n",
        "        if num > largest:\n",
        "            second = largest\n",
        "            largest = num\n",
        "        elif num > second and num != largest:\n",
        "            second = num\n",
        "    return second if second != float('-inf') else None\n",
        "\n",
        "print(second_largest([3, 9, 2, 9, 5]))\n"
      ],
      "metadata": {
        "colab": {
          "base_uri": "https://localhost:8080/"
        },
        "id": "ufp9RHPaKF06",
        "outputId": "693e58cf-19b4-4dc6-cd82-b3cfb6f1a1cf"
      },
      "execution_count": 19,
      "outputs": [
        {
          "output_type": "stream",
          "name": "stdout",
          "text": [
            "5\n"
          ]
        }
      ]
    },
    {
      "cell_type": "code",
      "source": [
        "def q21_check_number():\n",
        "    val = input(\"Enter a value: \")\n",
        "    try:\n",
        "        float(val)\n",
        "        print(\"It is a number.\")\n",
        "    except ValueError:\n",
        "        print(\"It is NOT a number.\")\n",
        "\n",
        "q21_check_number()\n"
      ],
      "metadata": {
        "colab": {
          "base_uri": "https://localhost:8080/"
        },
        "id": "gCagMkqYKNL2",
        "outputId": "e791eb6a-7b0a-48d4-e576-b7b9cc776df8"
      },
      "execution_count": 20,
      "outputs": [
        {
          "output_type": "stream",
          "name": "stdout",
          "text": [
            "Enter a value: 23\n",
            "It is a number.\n"
          ]
        }
      ]
    },
    {
      "cell_type": "code",
      "source": [
        "def q22_check_anagram():\n",
        "    str1 = input(\"Enter first string: \")\n",
        "    str2 = input(\"Enter second string: \")\n",
        "    s1 = str1.replace(\" \", \"\").lower()\n",
        "    s2 = str2.replace(\" \", \"\").lower()\n",
        "    if len(s1) != len(s2):\n",
        "        print(\"Not anagrams.\")\n",
        "        return\n",
        "    for ch in s1:\n",
        "        if s1.count(ch) != s2.count(ch):\n",
        "            print(\"Not anagrams.\")\n",
        "            return\n",
        "    print(\"Strings are anagrams.\")\n",
        "\n",
        "q22_check_anagram()\n"
      ],
      "metadata": {
        "colab": {
          "base_uri": "https://localhost:8080/"
        },
        "id": "T6H33ZLuKsg3",
        "outputId": "bce43264-b56c-43a0-9cba-b23573f97c54"
      },
      "execution_count": 21,
      "outputs": [
        {
          "output_type": "stream",
          "name": "stdout",
          "text": [
            "Enter first string: listen\n",
            "Enter second string: silent\n",
            "Strings are anagrams.\n"
          ]
        }
      ]
    },
    {
      "cell_type": "code",
      "source": [
        "def q23_number_conversion():\n",
        "    num = int(input(\"Enter a number: \"))\n",
        "    def to_binary(n):\n",
        "        res = ''\n",
        "        while n > 0:\n",
        "            res = str(n % 2) + res\n",
        "            n //= 2\n",
        "        return res or '0'\n",
        "    def to_octal(n):\n",
        "        res = ''\n",
        "        while n > 0:\n",
        "            res = str(n % 8) + res\n",
        "            n //= 8\n",
        "        return res or '0'\n",
        "    def to_hex(n):\n",
        "        digits = \"0123456789ABCDEF\"\n",
        "        res = ''\n",
        "        while n > 0:\n",
        "            res = digits[n % 16] + res\n",
        "            n //= 16\n",
        "        return res or '0'\n",
        "    print(\"Binary:\", to_binary(num))\n",
        "    print(\"Octal:\", to_octal(num))\n",
        "    print(\"Hexadecimal:\", to_hex(num))\n",
        "q23_number_conversion()\n"
      ],
      "metadata": {
        "colab": {
          "base_uri": "https://localhost:8080/"
        },
        "id": "XKMtaC8bK1To",
        "outputId": "dfdf4e0a-65ed-4410-a7d2-5b0df3599cd8"
      },
      "execution_count": 22,
      "outputs": [
        {
          "output_type": "stream",
          "name": "stdout",
          "text": [
            "Enter a number: 345\n",
            "Binary: 101011001\n",
            "Octal: 531\n",
            "Hexadecimal: 159\n"
          ]
        }
      ]
    },
    {
      "cell_type": "code",
      "source": [
        "def q24_filter_greater_50():\n",
        "    lst = input(\"Enter numbers separated by space: \").split()\n",
        "    lst = [int(x) for x in lst]\n",
        "    result = []\n",
        "    for val in lst:\n",
        "        if val > 50:\n",
        "            result.append(val)\n",
        "    print(\"Numbers greater than 50:\", result)\n",
        "q24_filter_greater_50()\n"
      ],
      "metadata": {
        "colab": {
          "base_uri": "https://localhost:8080/"
        },
        "id": "NY7CrLf0LAtm",
        "outputId": "5439ecd4-3589-4e38-fffb-c34256d5a25d"
      },
      "execution_count": 23,
      "outputs": [
        {
          "output_type": "stream",
          "name": "stdout",
          "text": [
            "Enter numbers separated by space: 23 34 45 56\n",
            "Numbers greater than 50: [56]\n"
          ]
        }
      ]
    },
    {
      "cell_type": "code",
      "source": [
        "def q25_count_case():\n",
        "    s = input(\"Enter a string: \")\n",
        "    upper = lower = 0\n",
        "    for ch in s:\n",
        "        if ch.isupper():\n",
        "            upper += 1\n",
        "        elif ch.islower():\n",
        "            lower += 1\n",
        "    print(\"Uppercase letters:\", upper)\n",
        "    print(\"Lowercase letters:\", lower)\n",
        "q25_count_case()\n"
      ],
      "metadata": {
        "colab": {
          "base_uri": "https://localhost:8080/"
        },
        "id": "-gwz4izaLJ1J",
        "outputId": "94c7728b-f0b1-444b-a72f-532ba1714367"
      },
      "execution_count": 25,
      "outputs": [
        {
          "output_type": "stream",
          "name": "stdout",
          "text": [
            "Enter a string: HarshItA\n",
            "Uppercase letters: 3\n",
            "Lowercase letters: 5\n"
          ]
        }
      ]
    },
    {
      "cell_type": "code",
      "source": [
        "def q26_square_lambda():\n",
        "    lst = input(\"Enter numbers separated by space: \").split()\n",
        "    lst = [int(x) for x in lst]\n",
        "    squared = list(map(lambda x: x**2, lst))\n",
        "    print(\"Squared list:\", squared)\n",
        "q26_square_lambda()\n"
      ],
      "metadata": {
        "colab": {
          "base_uri": "https://localhost:8080/"
        },
        "id": "FWqlznOfMAu2",
        "outputId": "803af755-8980-44dc-8340-5c8e2f603a54"
      },
      "execution_count": 26,
      "outputs": [
        {
          "output_type": "stream",
          "name": "stdout",
          "text": [
            "Enter numbers separated by space: 34 56 78\n",
            "Squared list: [1156, 3136, 6084]\n"
          ]
        }
      ]
    },
    {
      "cell_type": "code",
      "source": [
        "def q27_list_primes():\n",
        "    def is_prime(n):\n",
        "        if n < 2:\n",
        "            return False\n",
        "        for i in range(2, int(n**0.5)+1):\n",
        "            if n % i == 0:\n",
        "                return False\n",
        "        return True\n",
        "    primes = []\n",
        "    for i in range(1, 101):\n",
        "        if is_prime(i):\n",
        "            primes.append(i)\n",
        "    print(\"Prime numbers from 1 to 100:\", primes)\n",
        "q27_list_primes()\n"
      ],
      "metadata": {
        "colab": {
          "base_uri": "https://localhost:8080/"
        },
        "id": "TZ0yLQfEMfWn",
        "outputId": "95cd8c55-beaa-4f2c-deca-c1fe1a9a325d"
      },
      "execution_count": 27,
      "outputs": [
        {
          "output_type": "stream",
          "name": "stdout",
          "text": [
            "Prime numbers from 1 to 100: [2, 3, 5, 7, 11, 13, 17, 19, 23, 29, 31, 37, 41, 43, 47, 53, 59, 61, 67, 71, 73, 79, 83, 89, 97]\n"
          ]
        }
      ]
    },
    {
      "cell_type": "code",
      "source": [
        "def q28_function_calculator():\n",
        "    def add(a, b): return a + b\n",
        "    def sub(a, b): return a - b\n",
        "    def mul(a, b): return a * b\n",
        "    def div(a, b): return a / b if b != 0 else \"Cannot divide by zero\"\n",
        "    a = float(input(\"Enter first number: \"))\n",
        "    b = float(input(\"Enter second number: \"))\n",
        "    op = input(\"Enter operation (+, -, *, /): \")\n",
        "    if op == '+':\n",
        "        print(\"Result:\", add(a, b))\n",
        "    elif op == '-':\n",
        "        print(\"Result:\", sub(a, b))\n",
        "    elif op == '*':\n",
        "        print(\"Result:\", mul(a, b))\n",
        "    elif op == '/':\n",
        "        print(\"Result:\", div(a, b))\n",
        "    else:\n",
        "        print(\"Invalid operation\")\n",
        "q28_function_calculator()\n"
      ],
      "metadata": {
        "colab": {
          "base_uri": "https://localhost:8080/"
        },
        "id": "Mp0o1V4nMlfe",
        "outputId": "006d998b-92a1-48c7-cab0-9bdfd161fe88"
      },
      "execution_count": 28,
      "outputs": [
        {
          "output_type": "stream",
          "name": "stdout",
          "text": [
            "Enter first number: 45.5\n",
            "Enter second number: 5\n",
            "Enter operation (+, -, *, /): /\n",
            "Result: 9.1\n"
          ]
        }
      ]
    },
    {
      "cell_type": "code",
      "source": [
        "def q29_recursive_factorial():\n",
        "    def factorial(n):\n",
        "        if n == 0 or n == 1:\n",
        "            return 1\n",
        "        else:\n",
        "            return n * factorial(n - 1)\n",
        "\n",
        "    n = int(input(\"Enter a number: \"))\n",
        "    print(\"Factorial:\", factorial(n))\n",
        "q29_recursive_factorial()\n"
      ],
      "metadata": {
        "colab": {
          "base_uri": "https://localhost:8080/"
        },
        "id": "_h1gBvmBMu3b",
        "outputId": "de9ae877-609c-46b0-e6f6-40474f6e1704"
      },
      "execution_count": 29,
      "outputs": [
        {
          "output_type": "stream",
          "name": "stdout",
          "text": [
            "Enter a number: 21\n",
            "Factorial: 51090942171709440000\n"
          ]
        }
      ]
    },
    {
      "cell_type": "code",
      "source": [
        "class Student:\n",
        "    def __init__(self, name, roll, grade):\n",
        "        self.name = name\n",
        "        self.roll = roll\n",
        "        self.grade = grade\n",
        "    def display(self):\n",
        "        print(\"Name:\", self.name)\n",
        "        print(\"Roll No:\", self.roll)\n",
        "        print(\"Grade:\", self.grade)\n",
        "def q30_student_management():\n",
        "    name = input(\"Enter student name: \")\n",
        "    roll = input(\"Enter roll number: \")\n",
        "    grade = input(\"Enter grade: \")\n",
        "    s = Student(name, roll, grade)\n",
        "    print(\"\\nStudent Details:\")\n",
        "    s.display()\n",
        "q30_student_management()\n"
      ],
      "metadata": {
        "colab": {
          "base_uri": "https://localhost:8080/"
        },
        "id": "gBfs_B3AM0c4",
        "outputId": "02499bce-fde8-4d69-82e4-5ef35fec7d1b"
      },
      "execution_count": 31,
      "outputs": [
        {
          "output_type": "stream",
          "name": "stdout",
          "text": [
            "Enter student name: Harshita Katyal\n",
            "Enter roll number: 11\n",
            "Enter grade: A\n",
            "\n",
            "Student Details:\n",
            "Name: Harshita Katyal\n",
            "Roll No: 11\n",
            "Grade: A\n"
          ]
        }
      ]
    },
    {
      "cell_type": "code",
      "source": [
        "def q31_count_file():\n",
        "    from google.colab import files\n",
        "\n",
        "    uploaded = files.upload()  # Upload file from your system\n",
        "\n",
        "    for filename in uploaded.keys():\n",
        "        try:\n",
        "            with open(filename, 'r') as file:\n",
        "                lines = file.readlines()\n",
        "                line_count = len(lines)\n",
        "                word_count = sum(len(line.split()) for line in lines)\n",
        "                print(\"File:\", filename)\n",
        "                print(\"Number of lines:\", line_count)\n",
        "                print(\"Number of words:\", word_count)\n",
        "        except FileNotFoundError:\n",
        "            print(\"File not found!\")\n",
        "\n",
        "# Run the function\n",
        "q31_count_file()\n"
      ],
      "metadata": {
        "colab": {
          "base_uri": "https://localhost:8080/",
          "height": 125
        },
        "id": "her3e1YhNbhP",
        "outputId": "7220d6b8-2af9-4bf1-957d-dc6ad1077cde"
      },
      "execution_count": 1,
      "outputs": [
        {
          "output_type": "display_data",
          "data": {
            "text/plain": [
              "<IPython.core.display.HTML object>"
            ],
            "text/html": [
              "\n",
              "     <input type=\"file\" id=\"files-b6bddf9d-1f40-4f68-ad75-3588bac0d120\" name=\"files[]\" multiple disabled\n",
              "        style=\"border:none\" />\n",
              "     <output id=\"result-b6bddf9d-1f40-4f68-ad75-3588bac0d120\">\n",
              "      Upload widget is only available when the cell has been executed in the\n",
              "      current browser session. Please rerun this cell to enable.\n",
              "      </output>\n",
              "      <script>// Copyright 2017 Google LLC\n",
              "//\n",
              "// Licensed under the Apache License, Version 2.0 (the \"License\");\n",
              "// you may not use this file except in compliance with the License.\n",
              "// You may obtain a copy of the License at\n",
              "//\n",
              "//      http://www.apache.org/licenses/LICENSE-2.0\n",
              "//\n",
              "// Unless required by applicable law or agreed to in writing, software\n",
              "// distributed under the License is distributed on an \"AS IS\" BASIS,\n",
              "// WITHOUT WARRANTIES OR CONDITIONS OF ANY KIND, either express or implied.\n",
              "// See the License for the specific language governing permissions and\n",
              "// limitations under the License.\n",
              "\n",
              "/**\n",
              " * @fileoverview Helpers for google.colab Python module.\n",
              " */\n",
              "(function(scope) {\n",
              "function span(text, styleAttributes = {}) {\n",
              "  const element = document.createElement('span');\n",
              "  element.textContent = text;\n",
              "  for (const key of Object.keys(styleAttributes)) {\n",
              "    element.style[key] = styleAttributes[key];\n",
              "  }\n",
              "  return element;\n",
              "}\n",
              "\n",
              "// Max number of bytes which will be uploaded at a time.\n",
              "const MAX_PAYLOAD_SIZE = 100 * 1024;\n",
              "\n",
              "function _uploadFiles(inputId, outputId) {\n",
              "  const steps = uploadFilesStep(inputId, outputId);\n",
              "  const outputElement = document.getElementById(outputId);\n",
              "  // Cache steps on the outputElement to make it available for the next call\n",
              "  // to uploadFilesContinue from Python.\n",
              "  outputElement.steps = steps;\n",
              "\n",
              "  return _uploadFilesContinue(outputId);\n",
              "}\n",
              "\n",
              "// This is roughly an async generator (not supported in the browser yet),\n",
              "// where there are multiple asynchronous steps and the Python side is going\n",
              "// to poll for completion of each step.\n",
              "// This uses a Promise to block the python side on completion of each step,\n",
              "// then passes the result of the previous step as the input to the next step.\n",
              "function _uploadFilesContinue(outputId) {\n",
              "  const outputElement = document.getElementById(outputId);\n",
              "  const steps = outputElement.steps;\n",
              "\n",
              "  const next = steps.next(outputElement.lastPromiseValue);\n",
              "  return Promise.resolve(next.value.promise).then((value) => {\n",
              "    // Cache the last promise value to make it available to the next\n",
              "    // step of the generator.\n",
              "    outputElement.lastPromiseValue = value;\n",
              "    return next.value.response;\n",
              "  });\n",
              "}\n",
              "\n",
              "/**\n",
              " * Generator function which is called between each async step of the upload\n",
              " * process.\n",
              " * @param {string} inputId Element ID of the input file picker element.\n",
              " * @param {string} outputId Element ID of the output display.\n",
              " * @return {!Iterable<!Object>} Iterable of next steps.\n",
              " */\n",
              "function* uploadFilesStep(inputId, outputId) {\n",
              "  const inputElement = document.getElementById(inputId);\n",
              "  inputElement.disabled = false;\n",
              "\n",
              "  const outputElement = document.getElementById(outputId);\n",
              "  outputElement.innerHTML = '';\n",
              "\n",
              "  const pickedPromise = new Promise((resolve) => {\n",
              "    inputElement.addEventListener('change', (e) => {\n",
              "      resolve(e.target.files);\n",
              "    });\n",
              "  });\n",
              "\n",
              "  const cancel = document.createElement('button');\n",
              "  inputElement.parentElement.appendChild(cancel);\n",
              "  cancel.textContent = 'Cancel upload';\n",
              "  const cancelPromise = new Promise((resolve) => {\n",
              "    cancel.onclick = () => {\n",
              "      resolve(null);\n",
              "    };\n",
              "  });\n",
              "\n",
              "  // Wait for the user to pick the files.\n",
              "  const files = yield {\n",
              "    promise: Promise.race([pickedPromise, cancelPromise]),\n",
              "    response: {\n",
              "      action: 'starting',\n",
              "    }\n",
              "  };\n",
              "\n",
              "  cancel.remove();\n",
              "\n",
              "  // Disable the input element since further picks are not allowed.\n",
              "  inputElement.disabled = true;\n",
              "\n",
              "  if (!files) {\n",
              "    return {\n",
              "      response: {\n",
              "        action: 'complete',\n",
              "      }\n",
              "    };\n",
              "  }\n",
              "\n",
              "  for (const file of files) {\n",
              "    const li = document.createElement('li');\n",
              "    li.append(span(file.name, {fontWeight: 'bold'}));\n",
              "    li.append(span(\n",
              "        `(${file.type || 'n/a'}) - ${file.size} bytes, ` +\n",
              "        `last modified: ${\n",
              "            file.lastModifiedDate ? file.lastModifiedDate.toLocaleDateString() :\n",
              "                                    'n/a'} - `));\n",
              "    const percent = span('0% done');\n",
              "    li.appendChild(percent);\n",
              "\n",
              "    outputElement.appendChild(li);\n",
              "\n",
              "    const fileDataPromise = new Promise((resolve) => {\n",
              "      const reader = new FileReader();\n",
              "      reader.onload = (e) => {\n",
              "        resolve(e.target.result);\n",
              "      };\n",
              "      reader.readAsArrayBuffer(file);\n",
              "    });\n",
              "    // Wait for the data to be ready.\n",
              "    let fileData = yield {\n",
              "      promise: fileDataPromise,\n",
              "      response: {\n",
              "        action: 'continue',\n",
              "      }\n",
              "    };\n",
              "\n",
              "    // Use a chunked sending to avoid message size limits. See b/62115660.\n",
              "    let position = 0;\n",
              "    do {\n",
              "      const length = Math.min(fileData.byteLength - position, MAX_PAYLOAD_SIZE);\n",
              "      const chunk = new Uint8Array(fileData, position, length);\n",
              "      position += length;\n",
              "\n",
              "      const base64 = btoa(String.fromCharCode.apply(null, chunk));\n",
              "      yield {\n",
              "        response: {\n",
              "          action: 'append',\n",
              "          file: file.name,\n",
              "          data: base64,\n",
              "        },\n",
              "      };\n",
              "\n",
              "      let percentDone = fileData.byteLength === 0 ?\n",
              "          100 :\n",
              "          Math.round((position / fileData.byteLength) * 100);\n",
              "      percent.textContent = `${percentDone}% done`;\n",
              "\n",
              "    } while (position < fileData.byteLength);\n",
              "  }\n",
              "\n",
              "  // All done.\n",
              "  yield {\n",
              "    response: {\n",
              "      action: 'complete',\n",
              "    }\n",
              "  };\n",
              "}\n",
              "\n",
              "scope.google = scope.google || {};\n",
              "scope.google.colab = scope.google.colab || {};\n",
              "scope.google.colab._files = {\n",
              "  _uploadFiles,\n",
              "  _uploadFilesContinue,\n",
              "};\n",
              "})(self);\n",
              "</script> "
            ]
          },
          "metadata": {}
        },
        {
          "output_type": "stream",
          "name": "stdout",
          "text": [
            "Saving Stats.txt to Stats.txt\n",
            "File: Stats.txt\n",
            "Number of lines: 161\n",
            "Number of words: 472\n"
          ]
        }
      ]
    },
    {
      "cell_type": "code",
      "source": [
        "import time\n",
        "\n",
        "def timer_decorator(func):\n",
        "    def wrapper():\n",
        "        start = time.time()\n",
        "        func()\n",
        "        end = time.time()\n",
        "        print(\"Execution time:\", end - start, \"seconds\")\n",
        "    return wrapper\n",
        "@timer_decorator\n",
        "def q32_sample_task():\n",
        "    print(\"Running a sample task...\")\n",
        "    time.sleep(2)\n",
        "q32_sample_task()\n"
      ],
      "metadata": {
        "colab": {
          "base_uri": "https://localhost:8080/"
        },
        "id": "_M5UqaENOQzy",
        "outputId": "ca589e7d-4027-4626-d5f2-07ac12c807a1"
      },
      "execution_count": 4,
      "outputs": [
        {
          "output_type": "stream",
          "name": "stdout",
          "text": [
            "Running a sample task...\n",
            "Execution time: 2.000227928161621 seconds\n"
          ]
        }
      ]
    },
    {
      "cell_type": "code",
      "source": [
        "class BankAccount:\n",
        "    def __init__(self, name, balance=0):\n",
        "        self.name = name\n",
        "        self.balance = balance\n",
        "\n",
        "    def deposit(self, amount):\n",
        "        self.balance += amount\n",
        "        print(\"Deposited:\", amount)\n",
        "\n",
        "    def withdraw(self, amount):\n",
        "        if amount <= self.balance:\n",
        "            self.balance -= amount\n",
        "            print(\"Withdrew:\", amount)\n",
        "        else:\n",
        "            print(\"Insufficient funds\")\n",
        "\n",
        "    def display_balance(self):\n",
        "        print(f\"{self.name}'s balance is ₹{self.balance}\")\n",
        "\n",
        "def q33_bank_operations():\n",
        "    name = input(\"Enter your name: \")\n",
        "    acc = BankAccount(name)\n",
        "    while True:\n",
        "        print(\"\\n1. Deposit\\n2. Withdraw\\n3. Show Balance\\n4. Exit\")\n",
        "        choice = input(\"Enter choice: \")\n",
        "        if choice == '1':\n",
        "            amt = float(input(\"Enter amount to deposit: \"))\n",
        "            acc.deposit(amt)\n",
        "        elif choice == '2':\n",
        "            amt = float(input(\"Enter amount to withdraw: \"))\n",
        "            acc.withdraw(amt)\n",
        "        elif choice == '3':\n",
        "            acc.display_balance()\n",
        "        elif choice == '4':\n",
        "            break\n",
        "        else:\n",
        "            print(\"Invalid choice\")\n",
        "\n",
        "q33_bank_operations()\n"
      ],
      "metadata": {
        "colab": {
          "base_uri": "https://localhost:8080/"
        },
        "id": "bTdPy0O628kX",
        "outputId": "61df0ecd-be88-4b83-cbc6-4cdf3433e7fa"
      },
      "execution_count": 6,
      "outputs": [
        {
          "name": "stdout",
          "output_type": "stream",
          "text": [
            "Enter your name: Harshita Katyal\n",
            "\n",
            "1. Deposit\n",
            "2. Withdraw\n",
            "3. Show Balance\n",
            "4. Exit\n",
            "Enter choice: 2\n",
            "Enter amount to withdraw: 10\n",
            "Insufficient funds\n",
            "\n",
            "1. Deposit\n",
            "2. Withdraw\n",
            "3. Show Balance\n",
            "4. Exit\n",
            "Enter choice: 4\n"
          ]
        }
      ]
    },
    {
      "cell_type": "code",
      "source": [
        "def even_generator(n):\n",
        "    for i in range(2, n+1, 2):\n",
        "        yield i\n",
        "\n",
        "def q34_run_generator():\n",
        "    n = int(input(\"Enter the value of n: \"))\n",
        "    print(\"Even numbers from 1 to\", n, \":\")\n",
        "    for num in even_generator(n):\n",
        "        print(num, end=' ')\n",
        "\n",
        "q34_run_generator()\n"
      ],
      "metadata": {
        "colab": {
          "base_uri": "https://localhost:8080/"
        },
        "id": "afSUazGh3j6r",
        "outputId": "01eac734-40ae-4fb5-8911-e2353602cd34"
      },
      "execution_count": 7,
      "outputs": [
        {
          "output_type": "stream",
          "name": "stdout",
          "text": [
            "Enter the value of n: 36\n",
            "Even numbers from 1 to 36 :\n",
            "2 4 6 8 10 12 14 16 18 20 22 24 26 28 30 32 34 36 "
          ]
        }
      ]
    },
    {
      "cell_type": "code",
      "source": [
        "def q35_print_all(*args, **kwargs):\n",
        "    print(\"Positional arguments:\")\n",
        "    for arg in args:\n",
        "        print(arg)\n",
        "    print(\"Keyword arguments:\")\n",
        "    for key, value in kwargs.items():\n",
        "        print(f\"{key}: {value}\")\n",
        "\n",
        "q35_print_all(1, 2, 3, name=\"Alice\", age=20)\n"
      ],
      "metadata": {
        "colab": {
          "base_uri": "https://localhost:8080/"
        },
        "id": "d6elF1uR3rOv",
        "outputId": "2667ebe3-fd13-4526-fade-a84b8f2a4edc"
      },
      "execution_count": 8,
      "outputs": [
        {
          "output_type": "stream",
          "name": "stdout",
          "text": [
            "Positional arguments:\n",
            "1\n",
            "2\n",
            "3\n",
            "Keyword arguments:\n",
            "name: Alice\n",
            "age: 20\n"
          ]
        }
      ]
    },
    {
      "cell_type": "code",
      "source": [
        "def q36_even_squares():\n",
        "    squares = [x**2 for x in range(1, 21) if x % 2 == 0]\n",
        "    print(\"Squares of even numbers from 1 to 20:\", squares)\n",
        "q36_even_squares()\n"
      ],
      "metadata": {
        "colab": {
          "base_uri": "https://localhost:8080/"
        },
        "id": "cJkdI4cl3xA8",
        "outputId": "7a919f72-bd22-40ae-bbaa-545fc76d26bf"
      },
      "execution_count": 9,
      "outputs": [
        {
          "output_type": "stream",
          "name": "stdout",
          "text": [
            "Squares of even numbers from 1 to 20: [4, 16, 36, 64, 100, 144, 196, 256, 324, 400]\n"
          ]
        }
      ]
    },
    {
      "cell_type": "code",
      "source": [
        "def q37_unique_elements():\n",
        "    lst = input(\"Enter numbers separated by space: \").split()\n",
        "    lst = [int(x) for x in lst]\n",
        "    unique = []\n",
        "    for x in lst:\n",
        "        if x not in unique:\n",
        "            unique.append(x)\n",
        "    print(\"Unique elements:\", unique)\n",
        "\n",
        "# Example:\n",
        "q37_unique_elements()\n"
      ],
      "metadata": {
        "colab": {
          "base_uri": "https://localhost:8080/"
        },
        "id": "fTbndLdc3_FV",
        "outputId": "e340d169-5975-4109-9e0c-044d8d69670a"
      },
      "execution_count": 11,
      "outputs": [
        {
          "output_type": "stream",
          "name": "stdout",
          "text": [
            "Enter numbers separated by space: 2 2 5 3 6\n",
            "Unique elements: [2, 5, 3, 6]\n"
          ]
        }
      ]
    },
    {
      "cell_type": "code",
      "source": [
        "def q38_merge_dicts():\n",
        "    d1 = {'a': 1, 'b': 2}\n",
        "    d2 = {'b': 3, 'c': 4}\n",
        "\n",
        "    merged = {}\n",
        "    for k in d1:\n",
        "        merged[k] = d1[k]\n",
        "    for k in d2:\n",
        "        merged[k] = d2[k]\n",
        "\n",
        "    print(\"Merged dictionary:\", merged)\n",
        "q38_merge_dicts()\n"
      ],
      "metadata": {
        "colab": {
          "base_uri": "https://localhost:8080/"
        },
        "id": "XURPCYUU4IBp",
        "outputId": "de2cdefc-600d-4ee8-d721-0a05e1a8be03"
      },
      "execution_count": 12,
      "outputs": [
        {
          "output_type": "stream",
          "name": "stdout",
          "text": [
            "Merged dictionary: {'a': 1, 'b': 3, 'c': 4}\n"
          ]
        }
      ]
    },
    {
      "cell_type": "code",
      "source": [
        "class Animal:\n",
        "    def speak(self):\n",
        "        print(\"Animal speaks\")\n",
        "\n",
        "class Dog(Animal):\n",
        "    def speak(self):\n",
        "        print(\"Dog barks\")\n",
        "\n",
        "def q39_inheritance_demo():\n",
        "    obj = Dog()\n",
        "    obj.speak()\n",
        "q39_inheritance_demo()\n"
      ],
      "metadata": {
        "colab": {
          "base_uri": "https://localhost:8080/"
        },
        "id": "SqDUDTlc4PFV",
        "outputId": "17dc8999-ee15-47fd-f384-2ca48dbe9537"
      },
      "execution_count": 13,
      "outputs": [
        {
          "output_type": "stream",
          "name": "stdout",
          "text": [
            "Dog barks\n"
          ]
        }
      ]
    },
    {
      "cell_type": "code",
      "source": [
        "def q40_common_elements():\n",
        "    list1 = input(\"Enter first list of numbers (space-separated): \").split()\n",
        "    list2 = input(\"Enter second list of numbers (space-separated): \").split()\n",
        "\n",
        "    list1 = [int(x) for x in list1]\n",
        "    list2 = [int(x) for x in list2]\n",
        "\n",
        "    common = []\n",
        "    for x in list1:\n",
        "        if x in list2 and x not in common:\n",
        "            common.append(x)\n",
        "\n",
        "    print(\"Common elements:\", common)\n",
        "\n",
        "# Example:\n",
        "q40_common_elements()\n"
      ],
      "metadata": {
        "colab": {
          "base_uri": "https://localhost:8080/"
        },
        "id": "N_Oxk4m34VaJ",
        "outputId": "aaed1e70-bd4e-4c75-90af-066cb1f44a64"
      },
      "execution_count": 15,
      "outputs": [
        {
          "output_type": "stream",
          "name": "stdout",
          "text": [
            "Enter first list of numbers (space-separated): 32 56 90 87 66\n",
            "Enter second list of numbers (space-separated): 41 56 87 66\n",
            "Common elements: [56, 87, 66]\n"
          ]
        }
      ]
    },
    {
      "cell_type": "code",
      "source": [
        "def q41_try_except():\n",
        "    try:\n",
        "        num = int(input(\"Enter a number: \"))\n",
        "        result = 100 / num\n",
        "        print(\"Result:\", result)\n",
        "    except ZeroDivisionError:\n",
        "        print(\"Cannot divide by zero!\")\n",
        "    except ValueError:\n",
        "        print(\"Invalid input! Enter a valid number.\")\n",
        "    finally:\n",
        "        print(\"Execution completed.\")\n",
        "q41_try_except()\n"
      ],
      "metadata": {
        "colab": {
          "base_uri": "https://localhost:8080/"
        },
        "id": "TNQRktdk4pAo",
        "outputId": "8ca850aa-1875-45a3-9f8e-4e6f34b87f47"
      },
      "execution_count": 16,
      "outputs": [
        {
          "output_type": "stream",
          "name": "stdout",
          "text": [
            "Enter a number: 451\n",
            "Result: 0.22172949002217296\n",
            "Execution completed.\n"
          ]
        }
      ]
    },
    {
      "cell_type": "code",
      "source": [
        "import json\n",
        "\n",
        "def q42_parse_json():\n",
        "    json_str = input(\"Enter JSON string: \")\n",
        "    try:\n",
        "        data = json.loads(json_str)\n",
        "        print(\"Parsed JSON Data:\")\n",
        "        for key, value in data.items():\n",
        "            print(f\"{key}: {value}\")\n",
        "    except json.JSONDecodeError:\n",
        "        print(\"Invalid JSON format!\")\n",
        "\n",
        "# Example:\n",
        "q42_parse_json()\n"
      ],
      "metadata": {
        "colab": {
          "base_uri": "https://localhost:8080/"
        },
        "id": "SxsbWo-26fcF",
        "outputId": "ce8366a1-17fb-4d2f-cc6a-e136a8954e20"
      },
      "execution_count": 17,
      "outputs": [
        {
          "output_type": "stream",
          "name": "stdout",
          "text": [
            "Enter JSON string: Alice\n",
            "Invalid JSON format!\n"
          ]
        }
      ]
    },
    {
      "cell_type": "code",
      "source": [
        "class Person:\n",
        "    def __init__(self, name, age):\n",
        "        self._name = name\n",
        "        self.__age = age\n",
        "\n",
        "    def show(self):\n",
        "        print(\"Name (protected):\", self._name)\n",
        "        print(\"Age (private):\", self.__age)\n",
        "\n",
        "def q43_demo_protected_private():\n",
        "    p = Person(\"Harshita\", 21)\n",
        "    p.show()\n",
        "    print(\"\\nAccessing protected (outside):\", p._name)\n",
        "    try:\n",
        "        print(\"Accessing private (outside):\", p.__age)\n",
        "    except AttributeError:\n",
        "        print(\"Private attribute cannot be accessed directly!\")\n",
        "q43_demo_protected_private()\n"
      ],
      "metadata": {
        "colab": {
          "base_uri": "https://localhost:8080/"
        },
        "id": "o8OkcoO46szd",
        "outputId": "80fb4c8a-aa18-45fa-e7f4-c466daff2b65"
      },
      "execution_count": 18,
      "outputs": [
        {
          "output_type": "stream",
          "name": "stdout",
          "text": [
            "Name (protected): Harshita\n",
            "Age (private): 21\n",
            "\n",
            "Accessing protected (outside): Harshita\n",
            "Private attribute cannot be accessed directly!\n"
          ]
        }
      ]
    },
    {
      "cell_type": "code",
      "source": [
        "def q44_check_email():\n",
        "    email = input(\"Enter an email address: \")\n",
        "    if \"@\" in email and \".\" in email.split('@')[-1]:\n",
        "        print(\"Valid email format.\")\n",
        "    else:\n",
        "        print(\"Invalid email format.\")\n",
        "\n",
        "# Example:\n",
        "q44_check_email()\n"
      ],
      "metadata": {
        "colab": {
          "base_uri": "https://localhost:8080/"
        },
        "id": "B_kLCI1j626O",
        "outputId": "71c31143-ea64-45a1-c1b0-883bdf05c5ca"
      },
      "execution_count": 19,
      "outputs": [
        {
          "output_type": "stream",
          "name": "stdout",
          "text": [
            "Enter an email address: harshitakatyal22@gmail.com\n",
            "Valid email format.\n"
          ]
        }
      ]
    },
    {
      "cell_type": "code",
      "source": [
        "import csv\n",
        "from google.colab import files\n",
        "\n",
        "def q45_csv_to_dict():\n",
        "    uploaded = files.upload()\n",
        "    for filename in uploaded.keys():\n",
        "        with open(filename, newline='') as csvfile:\n",
        "            reader = csv.DictReader(csvfile)\n",
        "            data = [row for row in reader]\n",
        "            print(\"CSV data as list of dictionaries:\")\n",
        "            for row in data:\n",
        "                print(row)\n",
        "\n",
        "q45_csv_to_dict()\n",
        "# 👉 Save a CSV file like:\n",
        "# name,age\n",
        "# Alice,25\n",
        "# Bob,30\n"
      ],
      "metadata": {
        "colab": {
          "base_uri": "https://localhost:8080/",
          "height": 1000
        },
        "id": "HJmysquv7Md2",
        "outputId": "b4782075-d816-4b7e-b595-9cf91d47d3cb"
      },
      "execution_count": 20,
      "outputs": [
        {
          "output_type": "display_data",
          "data": {
            "text/plain": [
              "<IPython.core.display.HTML object>"
            ],
            "text/html": [
              "\n",
              "     <input type=\"file\" id=\"files-e029bd25-bf64-41b1-8b23-6f04c49a4f85\" name=\"files[]\" multiple disabled\n",
              "        style=\"border:none\" />\n",
              "     <output id=\"result-e029bd25-bf64-41b1-8b23-6f04c49a4f85\">\n",
              "      Upload widget is only available when the cell has been executed in the\n",
              "      current browser session. Please rerun this cell to enable.\n",
              "      </output>\n",
              "      <script>// Copyright 2017 Google LLC\n",
              "//\n",
              "// Licensed under the Apache License, Version 2.0 (the \"License\");\n",
              "// you may not use this file except in compliance with the License.\n",
              "// You may obtain a copy of the License at\n",
              "//\n",
              "//      http://www.apache.org/licenses/LICENSE-2.0\n",
              "//\n",
              "// Unless required by applicable law or agreed to in writing, software\n",
              "// distributed under the License is distributed on an \"AS IS\" BASIS,\n",
              "// WITHOUT WARRANTIES OR CONDITIONS OF ANY KIND, either express or implied.\n",
              "// See the License for the specific language governing permissions and\n",
              "// limitations under the License.\n",
              "\n",
              "/**\n",
              " * @fileoverview Helpers for google.colab Python module.\n",
              " */\n",
              "(function(scope) {\n",
              "function span(text, styleAttributes = {}) {\n",
              "  const element = document.createElement('span');\n",
              "  element.textContent = text;\n",
              "  for (const key of Object.keys(styleAttributes)) {\n",
              "    element.style[key] = styleAttributes[key];\n",
              "  }\n",
              "  return element;\n",
              "}\n",
              "\n",
              "// Max number of bytes which will be uploaded at a time.\n",
              "const MAX_PAYLOAD_SIZE = 100 * 1024;\n",
              "\n",
              "function _uploadFiles(inputId, outputId) {\n",
              "  const steps = uploadFilesStep(inputId, outputId);\n",
              "  const outputElement = document.getElementById(outputId);\n",
              "  // Cache steps on the outputElement to make it available for the next call\n",
              "  // to uploadFilesContinue from Python.\n",
              "  outputElement.steps = steps;\n",
              "\n",
              "  return _uploadFilesContinue(outputId);\n",
              "}\n",
              "\n",
              "// This is roughly an async generator (not supported in the browser yet),\n",
              "// where there are multiple asynchronous steps and the Python side is going\n",
              "// to poll for completion of each step.\n",
              "// This uses a Promise to block the python side on completion of each step,\n",
              "// then passes the result of the previous step as the input to the next step.\n",
              "function _uploadFilesContinue(outputId) {\n",
              "  const outputElement = document.getElementById(outputId);\n",
              "  const steps = outputElement.steps;\n",
              "\n",
              "  const next = steps.next(outputElement.lastPromiseValue);\n",
              "  return Promise.resolve(next.value.promise).then((value) => {\n",
              "    // Cache the last promise value to make it available to the next\n",
              "    // step of the generator.\n",
              "    outputElement.lastPromiseValue = value;\n",
              "    return next.value.response;\n",
              "  });\n",
              "}\n",
              "\n",
              "/**\n",
              " * Generator function which is called between each async step of the upload\n",
              " * process.\n",
              " * @param {string} inputId Element ID of the input file picker element.\n",
              " * @param {string} outputId Element ID of the output display.\n",
              " * @return {!Iterable<!Object>} Iterable of next steps.\n",
              " */\n",
              "function* uploadFilesStep(inputId, outputId) {\n",
              "  const inputElement = document.getElementById(inputId);\n",
              "  inputElement.disabled = false;\n",
              "\n",
              "  const outputElement = document.getElementById(outputId);\n",
              "  outputElement.innerHTML = '';\n",
              "\n",
              "  const pickedPromise = new Promise((resolve) => {\n",
              "    inputElement.addEventListener('change', (e) => {\n",
              "      resolve(e.target.files);\n",
              "    });\n",
              "  });\n",
              "\n",
              "  const cancel = document.createElement('button');\n",
              "  inputElement.parentElement.appendChild(cancel);\n",
              "  cancel.textContent = 'Cancel upload';\n",
              "  const cancelPromise = new Promise((resolve) => {\n",
              "    cancel.onclick = () => {\n",
              "      resolve(null);\n",
              "    };\n",
              "  });\n",
              "\n",
              "  // Wait for the user to pick the files.\n",
              "  const files = yield {\n",
              "    promise: Promise.race([pickedPromise, cancelPromise]),\n",
              "    response: {\n",
              "      action: 'starting',\n",
              "    }\n",
              "  };\n",
              "\n",
              "  cancel.remove();\n",
              "\n",
              "  // Disable the input element since further picks are not allowed.\n",
              "  inputElement.disabled = true;\n",
              "\n",
              "  if (!files) {\n",
              "    return {\n",
              "      response: {\n",
              "        action: 'complete',\n",
              "      }\n",
              "    };\n",
              "  }\n",
              "\n",
              "  for (const file of files) {\n",
              "    const li = document.createElement('li');\n",
              "    li.append(span(file.name, {fontWeight: 'bold'}));\n",
              "    li.append(span(\n",
              "        `(${file.type || 'n/a'}) - ${file.size} bytes, ` +\n",
              "        `last modified: ${\n",
              "            file.lastModifiedDate ? file.lastModifiedDate.toLocaleDateString() :\n",
              "                                    'n/a'} - `));\n",
              "    const percent = span('0% done');\n",
              "    li.appendChild(percent);\n",
              "\n",
              "    outputElement.appendChild(li);\n",
              "\n",
              "    const fileDataPromise = new Promise((resolve) => {\n",
              "      const reader = new FileReader();\n",
              "      reader.onload = (e) => {\n",
              "        resolve(e.target.result);\n",
              "      };\n",
              "      reader.readAsArrayBuffer(file);\n",
              "    });\n",
              "    // Wait for the data to be ready.\n",
              "    let fileData = yield {\n",
              "      promise: fileDataPromise,\n",
              "      response: {\n",
              "        action: 'continue',\n",
              "      }\n",
              "    };\n",
              "\n",
              "    // Use a chunked sending to avoid message size limits. See b/62115660.\n",
              "    let position = 0;\n",
              "    do {\n",
              "      const length = Math.min(fileData.byteLength - position, MAX_PAYLOAD_SIZE);\n",
              "      const chunk = new Uint8Array(fileData, position, length);\n",
              "      position += length;\n",
              "\n",
              "      const base64 = btoa(String.fromCharCode.apply(null, chunk));\n",
              "      yield {\n",
              "        response: {\n",
              "          action: 'append',\n",
              "          file: file.name,\n",
              "          data: base64,\n",
              "        },\n",
              "      };\n",
              "\n",
              "      let percentDone = fileData.byteLength === 0 ?\n",
              "          100 :\n",
              "          Math.round((position / fileData.byteLength) * 100);\n",
              "      percent.textContent = `${percentDone}% done`;\n",
              "\n",
              "    } while (position < fileData.byteLength);\n",
              "  }\n",
              "\n",
              "  // All done.\n",
              "  yield {\n",
              "    response: {\n",
              "      action: 'complete',\n",
              "    }\n",
              "  };\n",
              "}\n",
              "\n",
              "scope.google = scope.google || {};\n",
              "scope.google.colab = scope.google.colab || {};\n",
              "scope.google.colab._files = {\n",
              "  _uploadFiles,\n",
              "  _uploadFilesContinue,\n",
              "};\n",
              "})(self);\n",
              "</script> "
            ]
          },
          "metadata": {}
        },
        {
          "output_type": "stream",
          "name": "stdout",
          "text": [
            "Saving Stats.txt to Stats (1).txt\n",
            "CSV data as list of dictionaries:\n",
            "{None: ['Statistics & Analytics – BCA Notes']}\n",
            "{None: ['⸻']}\n",
            "{None: ['1. Introduction to Statistics']}\n",
            "{None: ['Definition:']}\n",
            "{None: ['Statistics is the science of collecting', ' organizing', ' analyzing', ' and interpreting data to make decisions.']}\n",
            "{None: ['Example:']}\n",
            "{None: ['A teacher calculates the average marks of students to understand class performance.']}\n",
            "{None: ['2. Sample vs. Population']}\n",
            "{None: ['Term\\tMeaning']}\n",
            "{None: ['Population\\tEntire group being studied (e.g.', ' all students in a college)']}\n",
            "{None: ['Sample\\tA smaller group selected from the population (e.g.', ' 50 students)']}\n",
            "{None: ['Example:']}\n",
            "{None: ['Surveying 100 people to understand the opinion of a city.']}\n",
            "{None: ['⸻']}\n",
            "{None: ['3. Measures of Central Tendency']}\n",
            "{None: ['These are values that represent the center of a data set.']}\n",
            "{None: ['a. Arithmetic Mean (Average)']}\n",
            "{None: ['Formula:']}\n",
            "{None: ['Mean = (Sum of all values) / (Number of values)']}\n",
            "{None: ['Example:']}\n",
            "{None: ['Marks = [50', ' 60', ' 70] → Mean = (50+60+70)/3 = 60']}\n",
            "{None: ['⸻']}\n",
            "{None: ['b. Harmonic Mean']}\n",
            "{None: ['Used when working with rates (speed', ' efficiency', ' etc.)']}\n",
            "{None: ['Formula:']}\n",
            "{None: ['H.M. = n / (1/x₁ + 1/x₂ + … + 1/xₙ)']}\n",
            "{None: ['Example:']}\n",
            "{None: ['Speeds = [60', ' 80] → H.M. ≈ 68.57 km/h']}\n",
            "{None: ['⸻']}\n",
            "{None: ['c. Geometric Mean']}\n",
            "{None: ['Used for growth rates (interest', ' population', ' etc.)']}\n",
            "{None: ['Formula:']}\n",
            "{None: ['G.M. = (x₁ × x₂ × … × xₙ)^(1/n)']}\n",
            "{None: ['Example:']}\n",
            "{None: ['Growth = [2', ' 8] → G.M. = √(2×8) = 4']}\n",
            "{None: ['⸻']}\n",
            "{None: ['d. Mode']}\n",
            "{None: ['Definition: Most frequently occurring value.']}\n",
            "{None: ['Example:']}\n",
            "{None: ['Marks = [70', ' 80', ' 80', ' 90] → Mode = 80']}\n",
            "{None: ['⸻']}\n",
            "{None: ['e. Quartiles']}\n",
            "{None: ['Definition: Divide the data into 4 equal parts.']}\n",
            "{None: ['Quartile\\tMeaning']}\n",
            "{None: ['Q1\\t25% of data (lower quartile)']}\n",
            "{None: ['Q2\\t50% of data (median)']}\n",
            "{None: ['Q3\\t75% of data (upper quartile)']}\n",
            "{None: ['Example:']}\n",
            "{None: ['Data = [10', ' 20', ' 30', ' 40', ' 50] → Q1 = 20', ' Q2 = 30', ' Q3 = 40']}\n",
            "{None: ['⸻']}\n",
            "{None: ['4. Variance & Standard Deviation']}\n",
            "{None: ['a. Variance']}\n",
            "{None: ['Tells how spread out the data is from the mean.']}\n",
            "{None: ['Formula:']}\n",
            "{None: ['Variance = Σ(x - mean)² / n']}\n",
            "{None: ['⸻']}\n",
            "{None: ['b. Standard Deviation']}\n",
            "{None: ['Square root of variance.']}\n",
            "{None: ['Low SD means values are close to mean.']}\n",
            "{None: ['Example:']}\n",
            "{None: ['Data = [2', ' 4', ' 4', ' 4', ' 5', ' 5', ' 7', ' 9] → Mean = 5', ' SD ≈ 2']}\n",
            "{None: ['⸻']}\n",
            "{None: ['5. Outliers']}\n",
            "{None: ['Definition:']}\n",
            "{None: ['Values that are far from other values.']}\n",
            "{None: ['Example:']}\n",
            "{None: ['Marks = [45', ' 46', ' 50', ' 95] → 95 is an outlier.']}\n",
            "{None: ['⸻']}\n",
            "{None: ['Data Distributions']}\n",
            "{None: ['⸻']}\n",
            "{None: ['6. Normal Distribution (Bell Curve)']}\n",
            "{None: ['Shape: Symmetrical', ' bell-shaped curve']}\n",
            "{None: ['Example: Student heights in a classroom.']}\n",
            "{None: ['⸻']}\n",
            "{None: ['7. Uniform Distribution']}\n",
            "{None: ['Definition: All outcomes have equal probability.']}\n",
            "{None: ['Example: Rolling a fair die → [1', ' 2', ' 3', ' 4', ' 5', ' 6]']}\n",
            "{None: ['⸻']}\n",
            "{None: ['8. Exponential Distribution']}\n",
            "{None: ['Definition: Measures time between events.']}\n",
            "{None: ['Example: Time until next customer arrives at a shop.']}\n",
            "{None: ['9. Right & Left Skewed Distributions']}\n",
            "{None: ['Type\\tTail Direction\\tExample']}\n",
            "{None: ['Right Skewed\\tTail on right\\tIncome distribution']}\n",
            "{None: ['Left Skewed\\tTail on left\\tRetirement age data']}\n",
            "{None: ['10. Random Distribution']}\n",
            "{None: ['Definition: No clear pattern or trend in data.']}\n",
            "{None: ['Example: Lottery number outcomes.']}\n",
            "{None: ['⸻']}\n",
            "{None: ['11. Central Limit Theorem (CLT)']}\n",
            "{None: ['Definition:']}\n",
            "{None: ['Even if population is not normal', ' the mean of many samples (n > 30) will be approximately normally distributed.']}\n",
            "{None: ['Importance:']}\n",
            "{None: ['Helps in predicting overall population behavior using samples.']}\n"
          ]
        }
      ]
    },
    {
      "cell_type": "code",
      "source": [
        "\n",
        "def q46_login_system():\n",
        "    users = {'admin': 'admin123', 'user1': 'pass1'}\n",
        "    username = input(\"Enter username: \")\n",
        "    password = input(\"Enter password: \")\n",
        "\n",
        "    if username in users and users[username] == password:\n",
        "        print(\"Login successful!\")\n",
        "    else:\n",
        "        print(\"Invalid credentials.\")\n",
        "q46_login_system()\n"
      ],
      "metadata": {
        "colab": {
          "base_uri": "https://localhost:8080/"
        },
        "id": "h-hri0EH-hE5",
        "outputId": "4b2995df-5467-47e5-88e5-4e83e75bdf2e"
      },
      "execution_count": 21,
      "outputs": [
        {
          "output_type": "stream",
          "name": "stdout",
          "text": [
            "Enter username: Harshita\n",
            "Enter password: admin123\n",
            "Invalid credentials.\n"
          ]
        }
      ]
    },
    {
      "cell_type": "code",
      "source": [
        "def flatten(lst):\n",
        "    result = []\n",
        "    for item in lst:\n",
        "        if isinstance(item, list):\n",
        "            result.extend(flatten(item))\n",
        "        else:\n",
        "            result.append(item)\n",
        "    return result\n",
        "def q47_flatten_input():\n",
        "    nested = [[1, 2], [3, [4, 5, [6]]], 7]\n",
        "    print(\"Original list:\", nested)\n",
        "    flat = flatten(nested)\n",
        "    print(\"Flattened list:\", flat)\n",
        "q47_flatten_input()\n"
      ],
      "metadata": {
        "colab": {
          "base_uri": "https://localhost:8080/"
        },
        "id": "id1v7xVF_XUK",
        "outputId": "2bf39293-ee64-4d6d-a48f-b34c8488bbf4"
      },
      "execution_count": 22,
      "outputs": [
        {
          "output_type": "stream",
          "name": "stdout",
          "text": [
            "Original list: [[1, 2], [3, [4, 5, [6]]], 7]\n",
            "Flattened list: [1, 2, 3, 4, 5, 6, 7]\n"
          ]
        }
      ]
    },
    {
      "cell_type": "code",
      "source": [
        "from functools import reduce\n",
        "\n",
        "def q48_map_filter_reduce():\n",
        "    nums = list(map(int, input(\"Enter numbers separated by space: \").split()))\n",
        "\n",
        "    squares = list(map(lambda x: x*x, nums))\n",
        "    evens = list(filter(lambda x: x % 2 == 0, nums))\n",
        "    total = reduce(lambda x, y: x + y, nums)\n",
        "\n",
        "    print(\"Squares:\", squares)\n",
        "    print(\"Even numbers:\", evens)\n",
        "    print(\"Sum:\", total)\n",
        "\n",
        "# Example:\n",
        "q48_map_filter_reduce()\n"
      ],
      "metadata": {
        "colab": {
          "base_uri": "https://localhost:8080/"
        },
        "id": "misRpEcD_fWV",
        "outputId": "d133a38e-5723-44fb-ea6e-ad123ca6cbc0"
      },
      "execution_count": 23,
      "outputs": [
        {
          "output_type": "stream",
          "name": "stdout",
          "text": [
            "Enter numbers separated by space: 2 3 45 89\n",
            "Squares: [4, 9, 2025, 7921]\n",
            "Even numbers: [2]\n",
            "Sum: 139\n"
          ]
        }
      ]
    },
    {
      "cell_type": "code",
      "source": [
        "def q49_cli_app():\n",
        "    print(\"Welcome to CLI Utility App\")\n",
        "    while True:\n",
        "        print(\"\\nChoose operation:\\n1. Greet\\n2. Add numbers\\n3. Exit\")\n",
        "        choice = input(\"Enter choice: \")\n",
        "\n",
        "        if choice == '1':\n",
        "            name = input(\"Enter your name: \")\n",
        "            print(\"Hello\", name)\n",
        "        elif choice == '2':\n",
        "            a = int(input(\"Enter first number: \"))\n",
        "            b = int(input(\"Enter second number: \"))\n",
        "            print(\"Sum:\", a + b)\n",
        "        elif choice == '3':\n",
        "            print(\"Exiting...\")\n",
        "            break\n",
        "        else:\n",
        "            print(\"Invalid option!\")\n",
        "\n",
        "# Example:\n",
        "q49_cli_app()\n"
      ],
      "metadata": {
        "colab": {
          "base_uri": "https://localhost:8080/"
        },
        "id": "7E18dnb2AEYA",
        "outputId": "ca918e71-5f46-480b-f2e2-3c244e91b134"
      },
      "execution_count": 24,
      "outputs": [
        {
          "output_type": "stream",
          "name": "stdout",
          "text": [
            "Welcome to CLI Utility App\n",
            "\n",
            "Choose operation:\n",
            "1. Greet\n",
            "2. Add numbers\n",
            "3. Exit\n",
            "Enter choice: 2\n",
            "Enter first number: 12\n",
            "Enter second number: 23\n",
            "Sum: 35\n",
            "\n",
            "Choose operation:\n",
            "1. Greet\n",
            "2. Add numbers\n",
            "3. Exit\n",
            "Enter choice: 3\n",
            "Exiting...\n"
          ]
        }
      ]
    },
    {
      "cell_type": "code",
      "source": [
        "def q50_mini_quiz():\n",
        "    score = 0\n",
        "    questions = {\n",
        "        \"Q1: What is the capital of India? \": \"\\new delhi\",\n",
        "        \"Q2: Who developed Python? \": \"guido van rossum\",\n",
        "        \"Q3: What does CPU stand for? \": \"central processing unit\"\n",
        "    }\n",
        "\n",
        "    for q, ans in questions.items():\n",
        "        user_ans = input(q).lower().strip()\n",
        "        if user_ans == ans:\n",
        "            print(\"Correct!\")\n",
        "            score += 1\n",
        "        else:\n",
        "            print(\"Wrong!\")\n",
        "\n",
        "    print(f\"\\nYour total score: {score}/{len(questions)}\")\n",
        "q50_mini_quiz()\n"
      ],
      "metadata": {
        "colab": {
          "base_uri": "https://localhost:8080/"
        },
        "id": "ecrk5ka1AHtX",
        "outputId": "17d4490c-2716-4e64-bff5-1bd4b5231f1e"
      },
      "execution_count": 27,
      "outputs": [
        {
          "output_type": "stream",
          "name": "stdout",
          "text": [
            "Q1: What is the capital of India? new delhi\n",
            "Correct!\n",
            "Q2: Who developed Python? guido van rossum\n",
            "Correct!\n",
            "Q3: What does CPU stand for? central processing unit\n",
            "Correct!\n",
            "\n",
            "Your total score: 3/3\n"
          ]
        }
      ]
    }
  ]
}